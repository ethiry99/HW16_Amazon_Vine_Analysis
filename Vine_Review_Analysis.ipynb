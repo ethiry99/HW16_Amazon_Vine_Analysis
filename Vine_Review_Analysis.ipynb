{
 "cells": [
  {
   "cell_type": "code",
   "execution_count": 2,
   "id": "5bd7830d",
   "metadata": {},
   "outputs": [],
   "source": [
    "# Dependencies and Setup\n",
    "import pandas as pd"
   ]
  },
  {
   "cell_type": "code",
   "execution_count": 3,
   "id": "3f7ab7f6",
   "metadata": {},
   "outputs": [],
   "source": [
    "vine_review_df=pd.read_csv(\"Resources/vine_table.csv\")\n"
   ]
  },
  {
   "cell_type": "code",
   "execution_count": 4,
   "id": "881d6c13",
   "metadata": {},
   "outputs": [
    {
     "data": {
      "text/html": [
       "<div>\n",
       "<style scoped>\n",
       "    .dataframe tbody tr th:only-of-type {\n",
       "        vertical-align: middle;\n",
       "    }\n",
       "\n",
       "    .dataframe tbody tr th {\n",
       "        vertical-align: top;\n",
       "    }\n",
       "\n",
       "    .dataframe thead th {\n",
       "        text-align: right;\n",
       "    }\n",
       "</style>\n",
       "<table border=\"1\" class=\"dataframe\">\n",
       "  <thead>\n",
       "    <tr style=\"text-align: right;\">\n",
       "      <th></th>\n",
       "      <th>review_id</th>\n",
       "      <th>star_rating</th>\n",
       "      <th>helpful_votes</th>\n",
       "      <th>total_votes</th>\n",
       "      <th>vine</th>\n",
       "      <th>verified_purchase</th>\n",
       "    </tr>\n",
       "  </thead>\n",
       "  <tbody>\n",
       "    <tr>\n",
       "      <th>0</th>\n",
       "      <td>RED72VWWCOS7S</td>\n",
       "      <td>1.0</td>\n",
       "      <td>2.0</td>\n",
       "      <td>8.0</td>\n",
       "      <td>N</td>\n",
       "      <td>Y</td>\n",
       "    </tr>\n",
       "    <tr>\n",
       "      <th>1</th>\n",
       "      <td>RZHWQ208LTEPV</td>\n",
       "      <td>5.0</td>\n",
       "      <td>0.0</td>\n",
       "      <td>0.0</td>\n",
       "      <td>N</td>\n",
       "      <td>Y</td>\n",
       "    </tr>\n",
       "    <tr>\n",
       "      <th>2</th>\n",
       "      <td>R37LBC3XAVLYOO</td>\n",
       "      <td>5.0</td>\n",
       "      <td>4.0</td>\n",
       "      <td>5.0</td>\n",
       "      <td>N</td>\n",
       "      <td>Y</td>\n",
       "    </tr>\n",
       "    <tr>\n",
       "      <th>3</th>\n",
       "      <td>R3L7XJMA0MVJWC</td>\n",
       "      <td>5.0</td>\n",
       "      <td>0.0</td>\n",
       "      <td>0.0</td>\n",
       "      <td>N</td>\n",
       "      <td>Y</td>\n",
       "    </tr>\n",
       "    <tr>\n",
       "      <th>4</th>\n",
       "      <td>R2I2GHSI7T1UBN</td>\n",
       "      <td>1.0</td>\n",
       "      <td>5.0</td>\n",
       "      <td>6.0</td>\n",
       "      <td>N</td>\n",
       "      <td>Y</td>\n",
       "    </tr>\n",
       "  </tbody>\n",
       "</table>\n",
       "</div>"
      ],
      "text/plain": [
       "        review_id  star_rating  helpful_votes  total_votes vine  \\\n",
       "0   RED72VWWCOS7S          1.0            2.0          8.0    N   \n",
       "1   RZHWQ208LTEPV          5.0            0.0          0.0    N   \n",
       "2  R37LBC3XAVLYOO          5.0            4.0          5.0    N   \n",
       "3  R3L7XJMA0MVJWC          5.0            0.0          0.0    N   \n",
       "4  R2I2GHSI7T1UBN          1.0            5.0          6.0    N   \n",
       "\n",
       "  verified_purchase  \n",
       "0                 Y  \n",
       "1                 Y  \n",
       "2                 Y  \n",
       "3                 Y  \n",
       "4                 Y  "
      ]
     },
     "execution_count": 4,
     "metadata": {},
     "output_type": "execute_result"
    }
   ],
   "source": [
    "vine_review_df.head()\n"
   ]
  },
  {
   "cell_type": "code",
   "execution_count": 5,
   "id": "624b325a",
   "metadata": {},
   "outputs": [],
   "source": [
    "vine_review_df=vine_review_df.loc[(vine_review_df[\"total_votes\"] >= 20) & (vine_review_df[\"helpful_votes\"]/vine_review_df[\"total_votes\"] >= .5)]"
   ]
  },
  {
   "cell_type": "code",
   "execution_count": 6,
   "id": "7a1a2ab4",
   "metadata": {},
   "outputs": [
    {
     "data": {
      "text/html": [
       "<div>\n",
       "<style scoped>\n",
       "    .dataframe tbody tr th:only-of-type {\n",
       "        vertical-align: middle;\n",
       "    }\n",
       "\n",
       "    .dataframe tbody tr th {\n",
       "        vertical-align: top;\n",
       "    }\n",
       "\n",
       "    .dataframe thead th {\n",
       "        text-align: right;\n",
       "    }\n",
       "</style>\n",
       "<table border=\"1\" class=\"dataframe\">\n",
       "  <thead>\n",
       "    <tr style=\"text-align: right;\">\n",
       "      <th></th>\n",
       "      <th>review_id</th>\n",
       "      <th>star_rating</th>\n",
       "      <th>helpful_votes</th>\n",
       "      <th>total_votes</th>\n",
       "      <th>vine</th>\n",
       "      <th>verified_purchase</th>\n",
       "    </tr>\n",
       "  </thead>\n",
       "  <tbody>\n",
       "    <tr>\n",
       "      <th>159</th>\n",
       "      <td>RQQ3KVTU5TJ4I</td>\n",
       "      <td>5.0</td>\n",
       "      <td>24.0</td>\n",
       "      <td>29.0</td>\n",
       "      <td>N</td>\n",
       "      <td>Y</td>\n",
       "    </tr>\n",
       "    <tr>\n",
       "      <th>213</th>\n",
       "      <td>R3FELXWV9T5CWE</td>\n",
       "      <td>2.0</td>\n",
       "      <td>22.0</td>\n",
       "      <td>24.0</td>\n",
       "      <td>N</td>\n",
       "      <td>Y</td>\n",
       "    </tr>\n",
       "    <tr>\n",
       "      <th>225</th>\n",
       "      <td>ROBYK6EZYK398</td>\n",
       "      <td>5.0</td>\n",
       "      <td>29.0</td>\n",
       "      <td>30.0</td>\n",
       "      <td>N</td>\n",
       "      <td>Y</td>\n",
       "    </tr>\n",
       "    <tr>\n",
       "      <th>311</th>\n",
       "      <td>R2YVBBR6NXIA4V</td>\n",
       "      <td>5.0</td>\n",
       "      <td>25.0</td>\n",
       "      <td>28.0</td>\n",
       "      <td>N</td>\n",
       "      <td>N</td>\n",
       "    </tr>\n",
       "    <tr>\n",
       "      <th>558</th>\n",
       "      <td>R2AVTBDIVG2AW4</td>\n",
       "      <td>5.0</td>\n",
       "      <td>26.0</td>\n",
       "      <td>26.0</td>\n",
       "      <td>N</td>\n",
       "      <td>N</td>\n",
       "    </tr>\n",
       "  </tbody>\n",
       "</table>\n",
       "</div>"
      ],
      "text/plain": [
       "          review_id  star_rating  helpful_votes  total_votes vine  \\\n",
       "159   RQQ3KVTU5TJ4I          5.0           24.0         29.0    N   \n",
       "213  R3FELXWV9T5CWE          2.0           22.0         24.0    N   \n",
       "225   ROBYK6EZYK398          5.0           29.0         30.0    N   \n",
       "311  R2YVBBR6NXIA4V          5.0           25.0         28.0    N   \n",
       "558  R2AVTBDIVG2AW4          5.0           26.0         26.0    N   \n",
       "\n",
       "    verified_purchase  \n",
       "159                 Y  \n",
       "213                 Y  \n",
       "225                 Y  \n",
       "311                 N  \n",
       "558                 N  "
      ]
     },
     "execution_count": 6,
     "metadata": {},
     "output_type": "execute_result"
    }
   ],
   "source": [
    "vine_review_df.head()"
   ]
  },
  {
   "cell_type": "code",
   "execution_count": 7,
   "id": "43f502d1",
   "metadata": {},
   "outputs": [
    {
     "name": "stdout",
     "output_type": "stream",
     "text": [
      "Paid vine reviews = 386\n"
     ]
    }
   ],
   "source": [
    "vine_rv_paid_df=vine_review_df.loc[vine_review_df[\"vine\"]==\"Y\"]\n",
    "\n",
    "vine_rv_paid_count=len(vine_rv_paid_df)\n",
    "\n",
    "#print(f\"5 Star paid percent {vine_five_star_paid_percent:.1%}\\n\"\n",
    "\n",
    "print(f\"Paid vine reviews = {vine_rv_paid_count}\")"
   ]
  },
  {
   "cell_type": "code",
   "execution_count": 15,
   "id": "bf74f578",
   "metadata": {
    "scrolled": true
   },
   "outputs": [
    {
     "name": "stdout",
     "output_type": "stream",
     "text": [
      "Paid (vine) reviews = 386\n",
      "Unpaid (vine) reviews = 48717\n"
     ]
    }
   ],
   "source": [
    "vine_rv_unpaid_df=vine_review_df.loc[vine_review_df[\"vine\"]==\"N\"]\n",
    "\n",
    "vine_rv_unpaid_count=len(vine_rv_unpaid_df)\n",
    "\n",
    "print(f\"Paid (vine) reviews = {vine_rv_paid_count}\")\n",
    "print(f\"Unpaid (vine) reviews = {vine_rv_unpaid_count}\")"
   ]
  },
  {
   "cell_type": "code",
   "execution_count": 9,
   "id": "5fdbf8f7",
   "metadata": {},
   "outputs": [
    {
     "name": "stdout",
     "output_type": "stream",
     "text": [
      "Five star paid reviews = 176\n"
     ]
    }
   ],
   "source": [
    "vine_rv_paid_five_star_df=vine_rv_paid_df.loc[(vine_rv_paid_df[\"star_rating\"]==5)]\n",
    "five_star_paid_count=len(vine_rv_paid_five_star_df)\n",
    "print(f\"Five star paid reviews = {five_star_paid_count}\")"
   ]
  },
  {
   "cell_type": "code",
   "execution_count": 14,
   "id": "fad083ca",
   "metadata": {
    "scrolled": true
   },
   "outputs": [
    {
     "name": "stdout",
     "output_type": "stream",
     "text": [
      "Five star paid reviews = 176\n",
      "Five star unpaid reviews = 24026\n"
     ]
    }
   ],
   "source": [
    "vine_rv_unpaid_five_star_df=vine_rv_unpaid_df.loc[(vine_rv_unpaid_df[\"star_rating\"]==5)]\n",
    "five_star_unpaid_count=len(vine_rv_unpaid_five_star_df)\n",
    "print(f\"Five star paid reviews = {five_star_paid_count}\")\n",
    "print(f\"Five star unpaid reviews = {five_star_unpaid_count}\")"
   ]
  },
  {
   "cell_type": "code",
   "execution_count": 11,
   "id": "cc5e64d1",
   "metadata": {},
   "outputs": [
    {
     "data": {
      "text/plain": [
       "0.45595854922279794"
      ]
     },
     "execution_count": 11,
     "metadata": {},
     "output_type": "execute_result"
    }
   ],
   "source": [
    "vine_five_star_paid_percent=five_star_paid_count/vine_rv_paid_count\n",
    "vine_five_star_paid_percent"
   ]
  },
  {
   "cell_type": "code",
   "execution_count": 12,
   "id": "53f1b880",
   "metadata": {},
   "outputs": [
    {
     "data": {
      "text/plain": [
       "0.493174867089517"
      ]
     },
     "execution_count": 12,
     "metadata": {},
     "output_type": "execute_result"
    }
   ],
   "source": [
    "vine_five_star_unpaid_percent=five_star_unpaid_count/vine_rv_unpaid_count\n",
    "vine_five_star_unpaid_percent"
   ]
  },
  {
   "cell_type": "code",
   "execution_count": 46,
   "id": "c9283d72",
   "metadata": {},
   "outputs": [
    {
     "name": "stdout",
     "output_type": "stream",
     "text": [
      "5 Star paid percent 45.6%\n",
      "5 Star unpaid percent 49.3%\n"
     ]
    }
   ],
   "source": [
    "print(f\"5 Star paid percent {vine_five_star_paid_percent:.1%}\\n\"\n",
    "      f\"5 Star unpaid percent {vine_five_star_unpaid_percent:.1%}\")"
   ]
  },
  {
   "cell_type": "code",
   "execution_count": null,
   "id": "7c2f4992",
   "metadata": {},
   "outputs": [],
   "source": []
  }
 ],
 "metadata": {
  "kernelspec": {
   "display_name": "PythonData",
   "language": "python",
   "name": "pythondata"
  },
  "language_info": {
   "codemirror_mode": {
    "name": "ipython",
    "version": 3
   },
   "file_extension": ".py",
   "mimetype": "text/x-python",
   "name": "python",
   "nbconvert_exporter": "python",
   "pygments_lexer": "ipython3",
   "version": "3.7.10"
  }
 },
 "nbformat": 4,
 "nbformat_minor": 5
}
